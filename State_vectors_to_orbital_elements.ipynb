{
 "cells": [
  {
   "cell_type": "markdown",
   "metadata": {},
   "source": [
    "## State vectors to orbital elements ##"
   ]
  },
  {
   "cell_type": "code",
   "execution_count": 86,
   "metadata": {},
   "outputs": [],
   "source": [
    "import numpy as np"
   ]
  },
  {
   "cell_type": "code",
   "execution_count": 87,
   "metadata": {},
   "outputs": [],
   "source": [
    "##Unit Conversions##\n",
    "\n",
    "rad_to_deg = 180/np.pi;"
   ]
  },
  {
   "cell_type": "code",
   "execution_count": 88,
   "metadata": {},
   "outputs": [],
   "source": [
    "##Known values##\n",
    "\n",
    "mu = 398600;\n",
    "t = 1000;"
   ]
  },
  {
   "cell_type": "markdown",
   "metadata": {},
   "source": [
    "## Defining the given state vector ##"
   ]
  },
  {
   "cell_type": "code",
   "execution_count": 89,
   "metadata": {},
   "outputs": [],
   "source": [
    "##Given state vector##\n",
    "\n",
    "x = -13686.889393418738;\n",
    "y = -13344.772667428870;\n",
    "z = 10814.629905439588;\n",
    "s = np.array([x,y,z]);\n",
    "xdot = 0.88259108105901152;\n",
    "ydot = 1.9876415852134037;\n",
    "zdot = 3.4114313525042017;\n",
    "sdot = np.array([xdot,ydot,zdot]);"
   ]
  },
  {
   "cell_type": "markdown",
   "metadata": {},
   "source": [
    "## Converting given state vector to orbital elements ##\n",
    "\n",
    "$$r = \\sqrt{x^2+y^2+z^2}$$\n",
    "\n",
    "$$speed = \\sqrt{v_x^2+v_y^2+v_z^2}$$\n",
    "\n",
    "Using Vis-viva equation,\n",
    "\n",
    "$$a = {(\\frac{2}{r}-\\frac{v^2}{\\mu})}^{-1}$$\n",
    "\n",
    "e can be found by the following equations:\n",
    "\n",
    "$$\\mu.\\bar e = (v^2-\\frac{\\mu}{r})\\bar r - (\\bar r.\\bar v)\\bar v$$\n",
    "\n",
    "$$e = \\sqrt{e_x^2+e_y^2+e_z^2}$$\n",
    "\n",
    "i can be evaluated by the following relations:\n",
    "\n",
    "$$\\cos i = \\hat w.\\hat k$$\n",
    "\n",
    "where $$\\hat w = \\frac{\\bar r \\times \\bar v}{\\mid \\bar r \\times \\bar v \\mid}$$ \n",
    "\n",
    "$\\hat N$ is the unit vector along nodal line.\n",
    "\n",
    "$$\\hat N = \\frac{\\hat k  \\times \\hat w}{\\mid \\hat k \\times \\hat w \\mid}$$ \n",
    "\n",
    "$\\Omega$ can be computed as follows:\n",
    "\n",
    "$$\\cos \\Omega = \\hat i.\\hat N$$\n",
    "\n",
    "$$\\sin \\Omega = (\\hat i \\times \\hat N).\\hat k$$\n",
    "\n",
    "Both sin and cos are computed as $\\Omega$, $\\omega$, and $\\nu$ vary from 0 to 360 degrees.\n",
    "\n",
    "$$\\hat e = \\frac{\\bar e}{e}$$\n",
    "\n",
    "$\\omega$ can be calculated using the following equations:\n",
    "\n",
    "$$\\cos \\omega = \\hat N.\\hat e$$\n",
    "\n",
    "$$\\sin \\omega = (\\hat N \\times \\hat e).\\hat w$$\n",
    "\n",
    "The last orbital element, $\\nu$ is calculated as follows:\n",
    "\n",
    "$$\\cos \\nu = \\hat e.\\hat r$$\n",
    "\n",
    "$$\\sin \\nu = (\\hat e \\times \\hat r).\\hat w$$"
   ]
  },
  {
   "cell_type": "code",
   "execution_count": 90,
   "metadata": {},
   "outputs": [
    {
     "name": "stdout",
     "output_type": "stream",
     "text": [
      "a = 20000.018460650677\n",
      "e = 0.09999900702499649\n",
      "i = 100.0\n",
      "Omega = 230.0\n",
      "omega = 199.99988817526065\n",
      "nu_0 = 190.0001118247393\n"
     ]
    }
   ],
   "source": [
    "##Converting to orbital elements##\n",
    "\n",
    "r = np.sqrt((x**2)+(y**2)+(z**2));\n",
    "v = np.sqrt((xdot**2)+(ydot**2)+(zdot**2));\n",
    "\n",
    "a = np.power((2/r)-((v**2)/mu),-1);\n",
    "\n",
    "e_vec = ((((v**2)-(mu/r))*s)-(np.dot\n",
    "                              (np.transpose(sdot)\n",
    "                               ,s)*sdot))/mu;\n",
    "e = np.sqrt(np.dot(np.transpose(e_vec),e_vec));\n",
    "\n",
    "w_cap = np.cross(s,sdot)/np.sqrt(np.sum\n",
    "                                 (np.power(np.cross\n",
    "                                           (s,sdot),2)));\n",
    "k_cap = np.array([0,0,1]);\n",
    "i_cap = np.array([1,0,0]);\n",
    "j_cap = np.array([0,1,0]);\n",
    "N_cap = np.cross(k_cap,w_cap)/np.sqrt(np.sum\n",
    "                                      (np.power(np.cross\n",
    "                                                (k_cap,w_cap),2)));\n",
    "\n",
    "cos_nu_0 = np.dot(s/r,np.transpose(e_vec/e));\n",
    "sin_nu_0 = np.dot(np.cross(e_vec/e,s/r),\n",
    "                  np.transpose(w_cap));\n",
    "if sin_nu_0 >= 0:\n",
    "    nu_0 = np.arccos(cos_nu_0);\n",
    "if sin_nu_0 < 0:\n",
    "    nu_0 = (2*np.pi)-np.arccos(cos_nu_0);\n",
    "    \n",
    "i = np.arccos(np.dot(w_cap,np.transpose(k_cap)));    \n",
    "\n",
    "cos_Omega = np.dot(i_cap,np.transpose(N_cap));\n",
    "sin_Omega = np.dot(np.cross(i_cap,N_cap),\n",
    "                   np.transpose(k_cap));\n",
    "if sin_Omega >= 0:\n",
    "    Omega = np.arccos(cos_Omega);\n",
    "if sin_Omega < 0:\n",
    "    Omega = (2*np.pi)-np.arccos(cos_Omega);\n",
    "    \n",
    "cos_omega = np.dot(N_cap,np.transpose(e_vec/e));\n",
    "sin_omega = np.dot(np.cross(N_cap,e_vec/e),np.transpose(w_cap));\n",
    "if sin_omega >= 0:\n",
    "    omega = np.arccos(cos_omega);\n",
    "if sin_omega < 0:\n",
    "    omega = (2*np.pi)-np.arccos(cos_omega);\n",
    "\n",
    "print('a =',a);\n",
    "print('e =',e);\n",
    "print('i =',i*rad_to_deg);\n",
    "print('Omega =',Omega*rad_to_deg);\n",
    "print('omega =',omega*rad_to_deg);\n",
    "print('nu_0 =',nu_0*rad_to_deg);"
   ]
  },
  {
   "cell_type": "markdown",
   "metadata": {},
   "source": [
    "## Estimating true anomaly at t = 1000 seconds ##\n",
    "\n",
    "The same procedure as the above code was followed."
   ]
  },
  {
   "cell_type": "code",
   "execution_count": 91,
   "metadata": {},
   "outputs": [],
   "source": [
    "##Calculating anomaly at t= 1000 seconds##\n",
    "\n",
    "n = np.sqrt(mu/(a**3));\n",
    "E_0 = 2*np.arctan(np.sqrt((1-e)/(1+e))*np.tan(nu_0/2));\n",
    "M_0 = E_0-(e*np.sin(E_0));\n",
    "M = M_0+(n*t);\n",
    "E = 0;\n",
    "fdotE = 1-(e*np.cos(E))\n",
    "fE = E-(e*np.sin(E))-M;\n",
    "epsilon = 0.0000001;\n",
    "while fE>epsilon or fE<(-1*epsilon):\n",
    "    E = E-(fE/fdotE);\n",
    "    fE = E-(e*np.sin(E))-M;\n",
    "    fdotE = 1-(e*np.cos(E));\n",
    "nu = 2*np.arctan(np.sqrt((1+e)/(1-e))*np.tan(E/2));   "
   ]
  },
  {
   "cell_type": "markdown",
   "metadata": {},
   "source": [
    "## State vector at t = 1000 seconds ##\n",
    "\n",
    "The state vector after 1000 seconds is displayed as the result of the code."
   ]
  },
  {
   "cell_type": "code",
   "execution_count": 92,
   "metadata": {},
   "outputs": [
    {
     "name": "stdout",
     "output_type": "stream",
     "text": [
      "X_1000 = -12552.04150633802 km\n",
      "Y_1000 = -11118.283622706676 km\n",
      "Z_1000 = 14000.844806355082 km\n",
      "Xdot_1000 = 1.3812752457561022 km/s\n",
      "Ydot_1000 = 2.4525144474178697 km/s\n",
      "Zdot_1000 = 2.939582308195734 km/s\n"
     ]
    }
   ],
   "source": [
    "##State vector at t=1000 seconds##\n",
    "\n",
    "H = np.sqrt(mu*a*(1-(e**2)));\n",
    "r_1000 = a*(1-(e**2))/(1+(e*np.cos(nu)));\n",
    "s_p_1000 = np.zeros((3,1));\n",
    "s_p_1000[0,0] = r_1000*np.cos(nu);\n",
    "s_p_1000[1,0] = r_1000*np.sin(nu);\n",
    "R_omega = np.array([[np.cos(omega),-np.sin(omega),0],\n",
    "                [np.sin(omega),np.cos(omega),0],[0,0,1]]);\n",
    "R_Omega = np.array([[np.cos(Omega),\n",
    "                     -np.sin(Omega),0],\n",
    "                    [np.sin(Omega),\n",
    "                     np.cos(Omega),0],[0,0,1]]);\n",
    "R_i = np.array([[1,0,0],[0,np.cos(i),-np.sin(i)],\n",
    "                [0,np.sin(i),np.cos(i)]]);\n",
    "R = np.dot(R_Omega,np.dot(R_i,R_omega));\n",
    "s_1000 = np.dot(R,s_p_1000);\n",
    "v_p_1000 = np.zeros((3,1));\n",
    "v_p_1000[0,0] = -mu*np.sin(nu)/H;\n",
    "v_p_1000[1,0] = mu*(e+np.cos(nu))/H;\n",
    "v_1000 = np.dot(R,v_p_1000);\n",
    "\n",
    "print('X_1000 =',s_1000[0,0],'km');\n",
    "print('Y_1000 =',s_1000[1,0],'km');\n",
    "print('Z_1000 =',s_1000[2,0],'km');\n",
    "print('Xdot_1000 =',v_1000[0,0],'km/s');\n",
    "print('Ydot_1000 =',v_1000[1,0],'km/s');\n",
    "print('Zdot_1000 =',v_1000[2,0],'km/s');"
   ]
  }
 ],
 "metadata": {
  "kernelspec": {
   "display_name": "Python 3",
   "language": "python",
   "name": "python3"
  },
  "language_info": {
   "codemirror_mode": {
    "name": "ipython",
    "version": 3
   },
   "file_extension": ".py",
   "mimetype": "text/x-python",
   "name": "python",
   "nbconvert_exporter": "python",
   "pygments_lexer": "ipython3",
   "version": "3.7.3"
  }
 },
 "nbformat": 4,
 "nbformat_minor": 2
}
